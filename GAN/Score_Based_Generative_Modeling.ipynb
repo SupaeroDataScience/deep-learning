{
  "nbformat": 4,
  "nbformat_minor": 0,
  "metadata": {
    "colab": {
      "provenance": []
    },
    "kernelspec": {
      "name": "python3",
      "display_name": "Python 3"
    },
    "accelerator": "GPU",
    "gpuClass": "standard"
  },
  "cells": [
    {
      "cell_type": "markdown",
      "metadata": {
        "id": "21v75FhSkfCq"
      },
      "source": [
        "# Score-Based Generative Modeling\n",
        "\n"
      ]
    },
    {
      "cell_type": "markdown",
      "source": [
        "<a rel=\"license\" href=\"http://creativecommons.org/licenses/by-nc-sa/4.0/\"><img alt=\"Creative Commons License\" align=\"left\" src=\"https://i.creativecommons.org/l/by-nc-sa/4.0/80x15.png\" /></a>&nbsp; Dennis G. Wilson"
      ],
      "metadata": {
        "id": "aByqVYEK5Oqe"
      }
    },
    {
      "cell_type": "markdown",
      "source": [
        "Score-based models, also referred to as diffusion models, are a family of approaches based on [estimating gradients of the data distribution](https://arxiv.org/abs/1907.05600). These methods generate samples by sampling from a random distribution and then following a data distribution gradient estimate to construct samples from the learned distribution. In this notebook, we will train a score-based model and use it to generate MNIST images using different sampling schemes.\n",
        "\n",
        "This tutorial is based on Yang Song's [tutorial](https://github.com/yang-song/score_sde_pytorch/blob/main/README.md) on the following paper:\n",
        "\n",
        "Yang Song, Jascha Sohl-Dickstein, Diederik P. Kingma, Abhishek Kumar, Stefano Ermon, and Ben Poole. \"[Score-Based Generative Modeling through Stochastic Differential Equations.](https://arxiv.org/pdf/2011.13456.pdf)\" Internation Conference on Learning Representations, 2021"
      ],
      "metadata": {
        "id": "4wLz7Udb4S0A"
      }
    },
    {
      "cell_type": "markdown",
      "source": [
        "![Comparison of generative models](https://lilianweng.github.io/posts/2021-07-11-diffusion-models/generative-overview.png)\n",
        "\n",
        "Image from Lilian Weng's [blog](https://lilianweng.github.io/posts/2021-07-11-diffusion-models/)"
      ],
      "metadata": {
        "id": "qH6-jog068gK"
      }
    },
    {
      "cell_type": "code",
      "source": [
        "%matplotlib inline\n",
        "import torch\n",
        "import torch.nn as nn\n",
        "import torch.nn.functional as F\n",
        "import numpy as np\n",
        "import functools\n",
        "from scipy import integrate\n",
        "import matplotlib.colors as colors\n",
        "from torch.optim import Adam\n",
        "from torchvision.utils import make_grid\n",
        "from torch.utils.data import DataLoader\n",
        "import torchvision.transforms as transforms\n",
        "from torchvision.datasets import MNIST\n",
        "from tqdm.notebook import trange, tqdm\n",
        "import matplotlib.pyplot as plt"
      ],
      "metadata": {
        "id": "3g4jtfIk3hLc"
      },
      "execution_count": null,
      "outputs": []
    },
    {
      "cell_type": "code",
      "source": [
        "device = torch.device(\"cuda:0\" if torch.cuda.is_available() else \"cpu\")\n",
        "device"
      ],
      "metadata": {
        "id": "ovK5tJlyYH0J"
      },
      "execution_count": null,
      "outputs": []
    },
    {
      "cell_type": "markdown",
      "source": [
        "## Perturbing Data with a Diffusion Process\n",
        "\n",
        "We will first consider a [diffusion process](https://en.wikipedia.org/wiki/Diffusion_process) that corrupts data slowly into random noise. A diffusion process is a [stochastic process](https://en.wikipedia.org/wiki/Stochastic_process#:~:text=A%20stochastic%20or%20random%20process%20can%20be%20defined%20as%20a,an%20element%20in%20the%20set.) similar to [Brownian motion](https://en.wikipedia.org/wiki/Brownian_motion). Their paths are like the trajectory of a particle submerged in a flowing fluid, which moves randomly due to unpredictable collisions with other particles. Let $\\{\\mathbf{x}(t) \\in \\mathbb{R}^d \\}_{t=0}^T$ be a diffusion process, indexed by the continuous time variable $t\\in [0,T]$. A diffusion process is governed by a stochastic differential equation (SDE), in the following form\n",
        "\n",
        "\\begin{align*}\n",
        "d \\mathbf{x} = \\mathbf{f}(\\mathbf{x}, t) d t + g(t) d \\mathbf{w},\n",
        "\\end{align*}\n",
        "\n",
        "where $\\mathbf{f}(\\cdot, t): \\mathbb{R}^d \\to \\mathbb{R}^d$ is called the *drift coefficient* of the SDE, $g(t) \\in \\mathbb{R}$ is called the *diffusion coefficient*, and $\\mathbf{w}$ represents the standard Brownian motion. You can understand an SDE as a stochastic generalization to ordinary differential equations (ODEs). Particles moving according to an SDE not only follows the deterministic drift $\\mathbf{f}(\\mathbf{x}, t)$, but are also affected by the random noise coming from $g(t) d\\mathbf{w}$. From now on, we use $p_t(\\mathbf{x})$ to denote the distribution of $\\mathbf{x}(t)$.\n",
        "\n",
        "For score-based generative modeling, we will choose a diffusion process such that $\\mathbf{x}(0) \\sim p_0$, and $\\mathbf{x}(T) \\sim p_T$. Here $p_0$ is the data distribution where we have a dataset of i.i.d. samples, and $p_T$ is the prior distribution that has a tractable form and easy to sample from. The noise perturbation by the diffusion process is large enough to ensure $p_T$ does not depend on $p_0$.\n",
        "\n"
      ],
      "metadata": {
        "id": "naXlV1MY2kYu"
      }
    },
    {
      "cell_type": "markdown",
      "source": [
        "### An example diffusion process\n",
        "\n",
        "We will specify a simple SDE that perturbs the data distribution $p_0$ to a prior distribution $p_T$\n",
        "\\begin{align*}\n",
        "d \\mathbf{x} = \\sigma^t d\\mathbf{w}, \\quad t\\in[0,1]\n",
        "\\end{align*}\n",
        "In this case,\n",
        "\\begin{align*}\n",
        "p_{0t}(\\mathbf{x}(t) \\mid \\mathbf{x}(0)) = \\mathcal{N}\\bigg(\\mathbf{x}(t); \\mathbf{x}(0), \\frac{1}{2\\log \\sigma}(\\sigma^{2t} - 1) \\mathbf{I}\\bigg)\n",
        "\\end{align*}\n",
        "\n",
        "When $\\sigma$ is large, the prior distribution, $p_{t=1}$ is\n",
        "\\begin{align*}\n",
        "\\int p_0(\\mathbf{y})\\mathcal{N}\\bigg(\\mathbf{x}; \\mathbf{y}, \\frac{1}{2 \\log \\sigma}(\\sigma^2 - 1)\\mathbf{I}\\bigg) d \\mathbf{y} \\approx \\mathbf{N}\\bigg(\\mathbf{x}; \\mathbf{0}, \\frac{1}{2 \\log \\sigma}(\\sigma^2 - 1)\\mathbf{I}\\bigg),\n",
        "\\end{align*}\n",
        "which is approximately independent of the data distribution and is easy to sample from.\n",
        "\n",
        "Intuitively, this SDE captures a continuum of Gaussian perturbations with variance function $\\frac{1}{2 \\log \\sigma}(\\sigma^{2t} - 1)$. This continuum of perturbations allows us to gradually transfer samples from a data distribution $p_0$ to a simple Gaussian distribution $p_1$."
      ],
      "metadata": {
        "id": "BDL5lHRmXAT3"
      }
    },
    {
      "cell_type": "code",
      "source": [
        "def marginal_prob_std(t, sigma):\n",
        "  \"\"\"Compute the mean and standard deviation of $p_{0t}(x(t) | x(0))$.\n",
        "\n",
        "  Args:\n",
        "    t: A vector of time steps.\n",
        "    sigma: The $\\sigma$ in our SDE.\n",
        "\n",
        "  Returns:\n",
        "    The standard deviation.\n",
        "  \"\"\"\n",
        "  t = torch.tensor(t, device=device)\n",
        "  return torch.sqrt((sigma**(2 * t) - 1.) / 2. / np.log(sigma))\n"
      ],
      "metadata": {
        "id": "vT2sFODZYMOA"
      },
      "execution_count": null,
      "outputs": []
    },
    {
      "cell_type": "code",
      "source": [
        "T = np.arange(0, 1, 0.1)\n",
        "sigmas = np.arange(2, 42, 4.0)\n",
        "X, Y = np.meshgrid(T, sigmas)\n",
        "prob = np.zeros((len(T), len(sigmas)))\n",
        "for s in range(len(sigmas)):\n",
        "    prob[:, s] = marginal_prob_std(T, sigmas[s]).cpu()\n",
        "Z = prob"
      ],
      "metadata": {
        "id": "739OA_vNp2r-"
      },
      "execution_count": null,
      "outputs": []
    },
    {
      "cell_type": "code",
      "source": [
        "fig = plt.figure(figsize=(8, 6))\n",
        "cs = plt.contourf(X, Y, Z, levels=20, cmap='Spectral',\n",
        "                 norm=colors.Normalize(vmin=Z.min(), vmax=Z.max()), alpha=0.6)\n",
        "#cs = plt.pcolormesh(X, Y, Z)\n",
        "fig.colorbar(cs)\n",
        "plt.xlabel(\"T\")\n",
        "plt.ylabel(\"sigma\")\n",
        "plt.show()"
      ],
      "metadata": {
        "id": "Dh9uMU4_rsKh"
      },
      "execution_count": null,
      "outputs": []
    },
    {
      "cell_type": "code",
      "source": [
        "def diffusion_coeff(t, sigma):\n",
        "  \"\"\"Compute the diffusion coefficient of our SDE.\n",
        "\n",
        "  Args:\n",
        "    t: A vector of time steps.\n",
        "    sigma: The $\\sigma$ in our SDE.\n",
        "\n",
        "  Returns:\n",
        "    The vector of diffusion coefficients.\n",
        "  \"\"\"\n",
        "  return torch.tensor(sigma**t, device=device)\n"
      ],
      "metadata": {
        "id": "gm553jqQphvR"
      },
      "execution_count": null,
      "outputs": []
    },
    {
      "cell_type": "code",
      "source": [
        "diff = np.zeros((len(T), len(sigmas)))\n",
        "for s in range(len(sigmas)):\n",
        "    diff[:, s] = diffusion_coeff(T, sigmas[s]).cpu()\n",
        "Z = diff"
      ],
      "metadata": {
        "id": "4NAKU0iEqKfr"
      },
      "execution_count": null,
      "outputs": []
    },
    {
      "cell_type": "code",
      "source": [
        "fig = plt.figure(figsize=(8, 6))\n",
        "cs = plt.contourf(X, Y, Z, levels=20, cmap='Spectral',\n",
        "                 norm=colors.Normalize(vmin=Z.min(), vmax=Z.max()), alpha=0.6)\n",
        "#cs = plt.pcolormesh(X, Y, Z)\n",
        "fig.colorbar(cs)\n",
        "plt.xlabel(\"T\")\n",
        "plt.ylabel(\"sigma\")\n",
        "plt.show()"
      ],
      "metadata": {
        "id": "vuLxrRRQu_KC"
      },
      "execution_count": null,
      "outputs": []
    },
    {
      "cell_type": "markdown",
      "source": [
        "### Perturbing MNIST data\n",
        "\n",
        "Now that we have defined a noising process through the SDE, we can apply it to a real data distribution. We will use MNIST as an example, applying noise from this SDE to the data. Later, we will use this in a training loop in order to learn a score model which can *denoise* the data."
      ],
      "metadata": {
        "id": "0xampHKcwVb0"
      }
    },
    {
      "cell_type": "code",
      "source": [
        "batch_size =  64 #@param {'type':'integer'}\n",
        "dataset = MNIST('.', train=True, transform=transforms.ToTensor(), download=True)\n",
        "data_loader = DataLoader(dataset, batch_size=batch_size, shuffle=True)\n",
        "data_iter = iter(data_loader)"
      ],
      "metadata": {
        "id": "W6nLlXh8w8Ad"
      },
      "execution_count": null,
      "outputs": []
    },
    {
      "cell_type": "code",
      "source": [
        "samples, _ = next(data_iter)\n",
        "sample_grid = make_grid(samples)\n",
        "plt.figure(figsize=(6,6))\n",
        "plt.axis('off')\n",
        "plt.imshow(sample_grid.permute(1, 2, 0).cpu(), vmin=0., vmax=1.)\n",
        "plt.show()"
      ],
      "metadata": {
        "id": "UgwylArvxckT"
      },
      "execution_count": null,
      "outputs": []
    },
    {
      "cell_type": "code",
      "source": [
        "x = samples.cpu()\n",
        "eps = 1e-5\n",
        "sigma =  25.0#@param {'type':'number'}\n",
        "t = 0.1#@param{'type':'number'}\n",
        "const_t = t * torch.ones(x.shape[0], device=x.device)\n",
        "random_t = torch.rand(x.shape[0], device=x.device) * (1. - eps) + eps\n",
        "z = torch.randn_like(x).cpu()\n",
        "std = marginal_prob_std(random_t, sigma).cpu()\n",
        "perturbed_x = x + z * std[:, None, None, None]\n",
        "perturbed_x = perturbed_x.clamp(0.0, 1.0)"
      ],
      "metadata": {
        "id": "Cup8gWnJyOKF"
      },
      "execution_count": null,
      "outputs": []
    },
    {
      "cell_type": "code",
      "source": [
        "noisy_grid = make_grid(perturbed_x)\n",
        "plt.figure(figsize=(6,6))\n",
        "plt.axis('off')\n",
        "plt.imshow(noisy_grid.permute(1, 2, 0).cpu(), vmin=0., vmax=1.)\n",
        "plt.show()"
      ],
      "metadata": {
        "id": "j02omNaCyqwz"
      },
      "execution_count": null,
      "outputs": []
    },
    {
      "cell_type": "markdown",
      "source": [
        "### Exercise 1\n",
        "\n",
        "Modify the $\\sigma$ and $t$ values to see how the image noising changes. What is the relationship between these values and the amount of noise? Next, change the $t$ values to random values. Why would it be benefitial to have random noise values during training?"
      ],
      "metadata": {
        "id": "MTIu1MlLzXrN"
      }
    },
    {
      "cell_type": "code",
      "source": [
        "sigma =  25.0#@param {'type':'number'}\n",
        "marginal_prob_std_fn = functools.partial(marginal_prob_std, sigma=sigma)\n",
        "diffusion_coeff_fn = functools.partial(diffusion_coeff, sigma=sigma)"
      ],
      "metadata": {
        "id": "a7x_0eR1plgX"
      },
      "execution_count": null,
      "outputs": []
    },
    {
      "cell_type": "markdown",
      "source": [
        "## Score Estimation\n",
        "\n",
        "Given that we have samples which are noised by a time-dependent SDE, we can use a time-dependent score function $\\nabla_\\mathbf{x} \\log p_t(\\mathbf{x})$ to construct the reverse-time SDE, and then solve it numerically to obtain samples from $p_0$ using samples from a prior distribution $p_T$. We can train a time-dependent score-based model $s_\\theta(\\mathbf{x}, t)$ to approximate $\\nabla_\\mathbf{x} \\log p_t(\\mathbf{x})$, using the following weighted sum of [denoising score matching](http://www.iro.umontreal.ca/~vincentp/Publications/smdae_techreport.pdf) objectives.\n",
        "\n",
        "\\begin{align}\n",
        "\\min_\\theta \\mathbb{E}_{t\\sim \\mathcal{U}(0, T)} [\\lambda(t) \\mathbb{E}_{\\mathbf{x}(0) \\sim p_0(\\mathbf{x})}\\mathbf{E}_{\\mathbf{x}(t) \\sim p_{0t}(\\mathbf{x}(t) \\mid \\mathbf{x}(0))}[ \\|s_\\theta(\\mathbf{x}(t), t) - \\nabla_{\\mathbf{x}(t)}\\log p_{0t}(\\mathbf{x}(t) \\mid \\mathbf{x}(0))\\|_2^2]],\n",
        "\\end{align}\n",
        "where $\\mathcal{U}(0,T)$ is a uniform distribution over $[0, T]$, $p_{0t}(\\mathbf{x}(t) \\mid \\mathbf{x}(0))$ denotes the transition probability from $\\mathbf{x}(0)$ to $\\mathbf{x}(t)$, and $\\lambda(t) \\in \\mathbb{R}_{>0}$ denotes a positive weighting function.\n",
        "\n",
        "For the SDE we defined, we can use the weighting function $\\lambda(t) = \\frac{1}{2 \\log \\sigma}(\\sigma^{2t} - 1)$.\n",
        "\n",
        "In the objective, the expectation over $\\mathbf{x}(0)$ can be estimated with empirical means over data samples from $p_0$. The expectation over $\\mathbf{x}(t)$ can be estimated by sampling from $p_{0t}(\\mathbf{x}(t) \\mid \\mathbf{x}(0))$, which is efficient when the drift coefficient $\\mathbf{f}(\\mathbf{x}, t)$ is affine. The weight function $\\lambda(t)$ is typically chosen to be inverse proportional to $\\mathbb{E}[\\|\\nabla_{\\mathbf{x}}\\log p_{0t}(\\mathbf{x}(t) \\mid \\mathbf{x}(0)) \\|_2^2]$.\n"
      ],
      "metadata": {
        "id": "1E3XwE2Q2uvl"
      }
    },
    {
      "cell_type": "markdown",
      "source": [
        "### Reversing the Diffusion Process Yields Score-Based Generative Models\n",
        "By starting from a sample from the prior distribution $p_T$ and reversing the diffusion process, we will be able to obtain a sample from the data distribution $p_0$. Crucially, the reverse process is a diffusion process running backwards in time. It is given by the following reverse-time SDE\n",
        "\n",
        "\\begin{align}\n",
        "  d\\mathbf{x} = [\\mathbf{f}(\\mathbf{x}, t) - g^2(t)\\nabla_{\\mathbf{x}}\\log p_t(\\mathbf{x})] dt + g(t) d\\bar{\\mathbf{w}},\n",
        "\\end{align}\n",
        "\n",
        "where $\\bar{\\mathbf{w}}$ is a Brownian motion in the reverse time direction, and $dt$ represents an infinitesimal negative time step. This reverse SDE can be computed once we know the drift and diffusion coefficients of the forward SDE, as well as the score of $p_t(\\mathbf{x})$ for each $t\\in[0, T]$.\n",
        "\n",
        "The overall intuition of score-based generative modeling with SDEs can be summarized in the illustration below\n",
        "\n",
        "![sde schematic](https://drive.google.com/uc?id=1Ptvb790eQRYMHLnDGBeYZK9A2cF-JMEP)\n",
        "\n",
        "\n",
        "\n"
      ],
      "metadata": {
        "id": "IDGZiwd_2rRV"
      }
    },
    {
      "cell_type": "markdown",
      "metadata": {
        "id": "GFuMaPov5HlV"
      },
      "source": [
        "### Time-Dependent Score-Based Model\n",
        "\n",
        "There are no restrictions on the network architecture of time-dependent score-based models, except that their output should have the same dimensionality as the input, and they should be conditioned on time.\n"
      ]
    },
    {
      "cell_type": "markdown",
      "source": [
        "\n",
        "We can incorporate the time information via [Gaussian random features](https://arxiv.org/abs/2006.10739). Specifically, we first sample $\\omega \\sim \\mathcal{N}(\\mathbf{0}, s^2\\mathbf{I})$ which is subsequently fixed for the model (i.e., not learnable). For a time step $t$, the corresponding Gaussian random feature is defined as\n",
        "\\begin{align}\n",
        "  [\\sin(2\\pi \\omega t) ; \\cos(2\\pi \\omega t)],\n",
        "\\end{align}\n",
        "where $[\\vec{a} ; \\vec{b}]$ denotes the concatenation of vector $\\vec{a}$ and $\\vec{b}$. This Gaussian random feature can be used as an encoding for time step $t$ so that the score network can condition on $t$ by incorporating this encoding.\n"
      ],
      "metadata": {
        "id": "Vm1SZ59m1Bk6"
      }
    },
    {
      "cell_type": "code",
      "source": [
        "class GaussianFourierProjection(nn.Module):\n",
        "  \"\"\"Gaussian random features for encoding time steps.\"\"\"\n",
        "  def __init__(self, embed_dim, scale=30.):\n",
        "    super().__init__()\n",
        "    # Randomly sample weights during initialization. These weights are fixed\n",
        "    # during optimization and are not trainable.\n",
        "    self.W = nn.Parameter(torch.randn(embed_dim // 2) * scale, requires_grad=False)\n",
        "  def forward(self, x):\n",
        "    x_proj = x[:, None] * self.W[None, :] * 2 * np.pi\n",
        "    return torch.cat([torch.sin(x_proj), torch.cos(x_proj)], dim=-1)"
      ],
      "metadata": {
        "id": "Aa4OaEPa1TDU"
      },
      "execution_count": null,
      "outputs": []
    },
    {
      "cell_type": "markdown",
      "source": [
        "\n",
        "The [U-net](https://arxiv.org/abs/1505.04597) architecture is a common backbone for the score network $s_\\theta(\\mathbf{x}, t)$,\n",
        "\n",
        "![U-net architecture](https://camo.githubusercontent.com/41ded1456b9dbe13b8d73d8da539dac95cb8aa721ebe5fb798af732ca9f04c92/68747470733a2f2f692e696d6775722e636f6d2f6a6544567071462e706e67)\n"
      ],
      "metadata": {
        "id": "Tddi5PXg1crF"
      }
    },
    {
      "cell_type": "markdown",
      "source": [
        "We can rescale the output of the U-net by $1/\\sqrt{\\mathbb{E}[\\|\\nabla_{\\mathbf{x}}\\log p_{0t}(\\mathbf{x}(t) \\mid \\mathbf{x}(0)) \\|_2^2]}$. This is because the optimal $s_\\theta(\\mathbf{x}(t), t)$ has an $\\ell_2$-norm close to $\\mathbb{E}[\\|\\nabla_{\\mathbf{x}}\\log p_{0t}(\\mathbf{x}(t) \\mid \\mathbf{x}(0))]\\|_2$, and the rescaling helps capture the norm of the true score. Recall that the training objective contains sums of the form\n",
        "\\begin{align*}\n",
        "\\mathbf{E}_{\\mathbf{x}(t) \\sim p_{0t}(\\mathbf{x}(t) \\mid \\mathbf{x}(0))}[ \\|s_\\theta(\\mathbf{x}(t), t) - \\nabla_{\\mathbf{x}(t)}\\log p_{0t}(\\mathbf{x}(t) \\mid \\mathbf{x}(0))\\|_2^2].\n",
        "\\end{align*}\n",
        "Therefore, it is natural to expect that the optimal score model $s_\\theta(\\mathbf{x}, t) \\approx \\nabla_{\\mathbf{x}(t)} \\log p_{0t}(\\mathbf{x}(t) \\mid \\mathbf{x}(0))$.\n"
      ],
      "metadata": {
        "id": "M9CvBVTE1PDH"
      }
    },
    {
      "cell_type": "code",
      "source": [
        "class Dense(nn.Module):\n",
        "  \"\"\"A fully connected layer that reshapes outputs to feature maps.\"\"\"\n",
        "  def __init__(self, input_dim, output_dim):\n",
        "    super().__init__()\n",
        "    self.dense = nn.Linear(input_dim, output_dim)\n",
        "  def forward(self, x):\n",
        "    return self.dense(x)[..., None, None]\n",
        "\n",
        "\n",
        "class ScoreNet(nn.Module):\n",
        "  \"\"\"A time-dependent score-based model built upon U-Net architecture.\"\"\"\n",
        "\n",
        "  def __init__(self, marginal_prob_std, channels=[32, 64, 128, 256], embed_dim=256):\n",
        "    \"\"\"Initialize a time-dependent score-based network.\n",
        "\n",
        "    Args:\n",
        "      marginal_prob_std: A function that takes time t and gives the standard\n",
        "        deviation of the perturbation kernel p_{0t}(x(t) | x(0)).\n",
        "      channels: The number of channels for feature maps of each resolution.\n",
        "      embed_dim: The dimensionality of Gaussian random feature embeddings.\n",
        "    \"\"\"\n",
        "    super().__init__()\n",
        "    # Gaussian random feature embedding layer for time\n",
        "    self.embed = nn.Sequential(GaussianFourierProjection(embed_dim=embed_dim),\n",
        "         nn.Linear(embed_dim, embed_dim))\n",
        "    # Encoding layers where the resolution decreases\n",
        "    self.conv1 = nn.Conv2d(1, channels[0], 3, stride=1, bias=False)\n",
        "    self.dense1 = Dense(embed_dim, channels[0])\n",
        "    self.gnorm1 = nn.GroupNorm(4, num_channels=channels[0])\n",
        "    self.conv2 = nn.Conv2d(channels[0], channels[1], 3, stride=2, bias=False)\n",
        "    self.dense2 = Dense(embed_dim, channels[1])\n",
        "    self.gnorm2 = nn.GroupNorm(32, num_channels=channels[1])\n",
        "    self.conv3 = nn.Conv2d(channels[1], channels[2], 3, stride=2, bias=False)\n",
        "    self.dense3 = Dense(embed_dim, channels[2])\n",
        "    self.gnorm3 = nn.GroupNorm(32, num_channels=channels[2])\n",
        "    self.conv4 = nn.Conv2d(channels[2], channels[3], 3, stride=2, bias=False)\n",
        "    self.dense4 = Dense(embed_dim, channels[3])\n",
        "    self.gnorm4 = nn.GroupNorm(32, num_channels=channels[3])\n",
        "\n",
        "    # Decoding layers where the resolution increases\n",
        "    self.tconv4 = nn.ConvTranspose2d(channels[3], channels[2], 3, stride=2, bias=False)\n",
        "    self.dense5 = Dense(embed_dim, channels[2])\n",
        "    self.tgnorm4 = nn.GroupNorm(32, num_channels=channels[2])\n",
        "    self.tconv3 = nn.ConvTranspose2d(channels[2] + channels[2], channels[1], 3, stride=2, bias=False, output_padding=1)\n",
        "    self.dense6 = Dense(embed_dim, channels[1])\n",
        "    self.tgnorm3 = nn.GroupNorm(32, num_channels=channels[1])\n",
        "    self.tconv2 = nn.ConvTranspose2d(channels[1] + channels[1], channels[0], 3, stride=2, bias=False, output_padding=1)\n",
        "    self.dense7 = Dense(embed_dim, channels[0])\n",
        "    self.tgnorm2 = nn.GroupNorm(32, num_channels=channels[0])\n",
        "    self.tconv1 = nn.ConvTranspose2d(channels[0] + channels[0], 1, 3, stride=1)\n",
        "\n",
        "    # The swish activation function\n",
        "    self.act = lambda x: x * torch.sigmoid(x)\n",
        "    self.marginal_prob_std = marginal_prob_std\n",
        "\n",
        "  def forward(self, x, t):\n",
        "    # Obtain the Gaussian random feature embedding for t\n",
        "    embed = self.act(self.embed(t))\n",
        "    # Encoding path\n",
        "    h1 = self.conv1(x)\n",
        "    ## Incorporate information from t\n",
        "    h1 += self.dense1(embed)\n",
        "    ## Group normalization\n",
        "    h1 = self.gnorm1(h1)\n",
        "    h1 = self.act(h1)\n",
        "    h2 = self.conv2(h1)\n",
        "    h2 += self.dense2(embed)\n",
        "    h2 = self.gnorm2(h2)\n",
        "    h2 = self.act(h2)\n",
        "    h3 = self.conv3(h2)\n",
        "    h3 += self.dense3(embed)\n",
        "    h3 = self.gnorm3(h3)\n",
        "    h3 = self.act(h3)\n",
        "    h4 = self.conv4(h3)\n",
        "    h4 += self.dense4(embed)\n",
        "    h4 = self.gnorm4(h4)\n",
        "    h4 = self.act(h4)\n",
        "\n",
        "    # Decoding path\n",
        "    h = self.tconv4(h4)\n",
        "    ## Skip connection from the encoding path\n",
        "    h += self.dense5(embed)\n",
        "    h = self.tgnorm4(h)\n",
        "    h = self.act(h)\n",
        "    h = self.tconv3(torch.cat([h, h3], dim=1))\n",
        "    h += self.dense6(embed)\n",
        "    h = self.tgnorm3(h)\n",
        "    h = self.act(h)\n",
        "    h = self.tconv2(torch.cat([h, h2], dim=1))\n",
        "    h += self.dense7(embed)\n",
        "    h = self.tgnorm2(h)\n",
        "    h = self.act(h)\n",
        "    h = self.tconv1(torch.cat([h, h1], dim=1))\n",
        "\n",
        "    # Normalize output\n",
        "    h = h / self.marginal_prob_std(t)[:, None, None, None]\n",
        "    return h"
      ],
      "metadata": {
        "id": "ACxyFIkV1tsc"
      },
      "execution_count": null,
      "outputs": []
    },
    {
      "cell_type": "code",
      "source": [
        "score_model = torch.nn.DataParallel(ScoreNet(marginal_prob_std=marginal_prob_std_fn))\n",
        "score_model = score_model.to(device)"
      ],
      "metadata": {
        "id": "PynLnH-M3bcX"
      },
      "execution_count": null,
      "outputs": []
    },
    {
      "cell_type": "markdown",
      "source": [
        "Now that we have a model which can approximate the score of the distribution, we will see an example of using it with a sampling method."
      ],
      "metadata": {
        "id": "_B899nf32yta"
      }
    },
    {
      "cell_type": "markdown",
      "metadata": {
        "id": "tldaUHUtHuej"
      },
      "source": [
        "## Sampling with Numerical SDE Solvers\n",
        "Recall that for any SDE of the form\n",
        "\\begin{align*}\n",
        "d \\mathbf{x} = \\mathbf{f}(\\mathbf{x}, t) dt + g(t) d\\mathbf{w},\n",
        "\\end{align*}\n",
        "the reverse-time SDE is given by\n",
        "\\begin{align*}\n",
        "d \\mathbf{x} = [\\mathbf{f}(\\mathbf{x}, t) - g(t)^2 \\nabla_\\mathbf{x} \\log p_t(\\mathbf{x})] dt + g(t) d \\bar{\\mathbf{w}}.\n",
        "\\end{align*}\n",
        "Since we have chosen the forward SDE to be\n",
        "\\begin{align*}\n",
        "d \\mathbf{x} = \\sigma^t d\\mathbf{w}, \\quad t\\in[0,1]\n",
        "\\end{align*}\n",
        "The reverse-time SDE is given by\n",
        "\\begin{align*}\n",
        "d\\mathbf{x} = -\\sigma^{2t} \\nabla_\\mathbf{x} \\log p_t(\\mathbf{x}) dt + \\sigma^t d \\bar{\\mathbf{w}}.\n",
        "\\end{align*}\n",
        "To sample from our time-dependent score-based model $s_\\theta(\\mathbf{x}, t)$, we first draw a sample from the prior distribution $p_1 \\approx \\mathbf{N}\\bigg(\\mathbf{x}; \\mathbf{0}, \\frac{1}{2}(\\sigma^{2} - 1) \\mathbf{I}\\bigg)$, and then solve the reverse-time SDE with numerical methods.\n",
        "\n",
        "In particular, using our time-dependent score-based model, the reverse-time SDE can be approximated by\n",
        "\\begin{align*}\n",
        "d\\mathbf{x} = -\\sigma^{2t} s_\\theta(\\mathbf{x}, t) dt + \\sigma^t d \\bar{\\mathbf{w}}\n",
        "\\end{align*}\n",
        "\n",
        "Next, one can use numerical methods to solve for the reverse-time SDE, such as the [Euler-Maruyama](https://en.wikipedia.org/wiki/Euler%E2%80%93Maruyama_method) approach. It is based on a simple discretization to the SDE, replacing $dt$ with $\\Delta t$ and $d \\mathbf{w}$ with $\\mathbf{z} \\sim \\mathcal{N}(\\mathbf{0}, g^2(t) \\Delta t \\mathbf{I})$. When applied to our reverse-time SDE, we can obtain the following iteration rule\n",
        "\\begin{align}\n",
        "\\mathbf{x}_{t-\\Delta t} = \\mathbf{x}_t + \\sigma^{2t} s_\\theta(\\mathbf{x}_t, t)\\Delta t + \\sigma^t\\sqrt{\\Delta t} \\mathbf{z}_t,\n",
        "\\end{align}\n",
        "where $\\mathbf{z}_t \\sim \\mathcal{N}(\\mathbf{0}, \\mathbf{I})$."
      ]
    },
    {
      "cell_type": "code",
      "metadata": {
        "id": "6FxBTOSSH2QR"
      },
      "source": [
        "## The number of sampling steps.\n",
        "num_steps =  500#@param {'type':'integer'}\n",
        "def Euler_Maruyama_sampler(score_model,\n",
        "                           marginal_prob_std,\n",
        "                           diffusion_coeff,\n",
        "                           batch_size=64,\n",
        "                           num_steps=num_steps,\n",
        "                           device='cuda',\n",
        "                           eps=1e-3):\n",
        "  \"\"\"Generate samples from score-based models with the Euler-Maruyama solver.\n",
        "\n",
        "  Args:\n",
        "    score_model: A PyTorch model that represents the time-dependent score-based model.\n",
        "    marginal_prob_std: A function that gives the standard deviation of\n",
        "      the perturbation kernel.\n",
        "    diffusion_coeff: A function that gives the diffusion coefficient of the SDE.\n",
        "    batch_size: The number of samplers to generate by calling this function once.\n",
        "    num_steps: The number of sampling steps.\n",
        "      Equivalent to the number of discretized time steps.\n",
        "    device: 'cuda' for running on GPUs, and 'cpu' for running on CPUs.\n",
        "    eps: The smallest time step for numerical stability.\n",
        "\n",
        "  Returns:\n",
        "    Samples.\n",
        "  \"\"\"\n",
        "  t = torch.ones(batch_size, device=device)\n",
        "  init_x = torch.randn(batch_size, 1, 28, 28, device=device) \\\n",
        "    * marginal_prob_std(t)[:, None, None, None]\n",
        "  time_steps = torch.linspace(1., eps, num_steps, device=device)\n",
        "  step_size = time_steps[0] - time_steps[1]\n",
        "  x = init_x\n",
        "  with torch.no_grad():\n",
        "    for time_step in tqdm(time_steps):\n",
        "      batch_time_step = torch.ones(batch_size, device=device) * time_step\n",
        "      g = diffusion_coeff(batch_time_step)\n",
        "      mean_x = x + (g**2)[:, None, None, None] * score_model(x, batch_time_step) * step_size\n",
        "      x = mean_x + torch.sqrt(step_size) * g[:, None, None, None] * torch.randn_like(x)\n",
        "  # Do not include any noise in the last sampling step.\n",
        "  return mean_x"
      ],
      "execution_count": null,
      "outputs": []
    },
    {
      "cell_type": "code",
      "source": [
        "sample_batch_size = 64 #@param {'type':'integer'}\n",
        "num_steps =  500#@param {'type':'integer'}\n",
        "sampler = Euler_Maruyama_sampler\n",
        "\n",
        "## Generate samples using the specified sampler.\n",
        "samples = sampler(score_model,\n",
        "                  marginal_prob_std_fn,\n",
        "                  diffusion_coeff_fn,\n",
        "                  sample_batch_size,\n",
        "                  num_steps=num_steps,\n",
        "                  device=device)\n",
        "\n",
        "## Sample visualization.\n",
        "samples = samples.clamp(0.0, 1.0)\n",
        "sample_grid = make_grid(samples, nrow=int(np.sqrt(sample_batch_size)))\n",
        "\n",
        "plt.figure(figsize=(6,6))\n",
        "plt.axis('off')\n",
        "plt.imshow(sample_grid.permute(1, 2, 0).cpu(), vmin=0., vmax=1.)\n",
        "plt.show()"
      ],
      "metadata": {
        "id": "S86wdqEZ3KPB"
      },
      "execution_count": null,
      "outputs": []
    },
    {
      "cell_type": "markdown",
      "source": [
        "No matter how many steps we do, we get noise. What is going on?\n",
        "\n",
        "We're using a score-based model $s_\\theta(\\mathbf{x}, t)$ but it is a random model. The parameters $\\theta$ are drawn from a normal distribution and haven't learned to approximate $\\nabla_\\mathbf{x} \\log p_t(\\mathbf{x})$. We need to train our score-based model now!"
      ],
      "metadata": {
        "id": "AChYYI-94I6U"
      }
    },
    {
      "cell_type": "markdown",
      "source": [
        "## Training the score-based model"
      ],
      "metadata": {
        "id": "6kf1_W7p4mZ7"
      }
    },
    {
      "cell_type": "markdown",
      "source": [
        "We will use the same noising process we saw earlier to perturb data $x$ according to a specific $t$. We will train the score-based model according to\n",
        "\\begin{align*}\n",
        "\\mathbf{E}_{\\mathbf{x}(t) \\sim p_{0t}(\\mathbf{x}(t) \\mid \\mathbf{x}(0))}[ \\|s_\\theta(\\mathbf{x}(t), t) - \\nabla_{\\mathbf{x}(t)}\\log p_{0t}(\\mathbf{x}(t) \\mid \\mathbf{x}(0))\\|_2^2].\n",
        "\\end{align*}\n",
        "\n",
        "Recall that for the SDE we defined,\n",
        "\\begin{align*}\n",
        "p_{0t}(\\mathbf{x}(t) \\mid \\mathbf{x}(0)) = \\mathcal{N}\\bigg(\\mathbf{x}(t); \\mathbf{x}(0), \\frac{1}{2\\log \\sigma}(\\sigma^{2t} - 1) \\mathbf{I}\\bigg)\n",
        "\\end{align*}\n",
        "\n",
        "We can use the calculated values of the variance to reduce the difference between $s_\\theta(\\mathbf{x}(t), t)$ and $\\nabla_{\\mathbf{x}(t)}\\log p_{0t}(\\mathbf{x}(t)$ on a set of perturbed images."
      ],
      "metadata": {
        "id": "gpstqaPl4sac"
      }
    },
    {
      "cell_type": "code",
      "metadata": {
        "id": "zOsoqPdXHuL5"
      },
      "source": [
        "def loss_fn(model, x, marginal_prob_std, eps=1e-5):\n",
        "  \"\"\"The loss function for training score-based generative models.\n",
        "\n",
        "  Args:\n",
        "    model: A PyTorch model instance that represents a\n",
        "      time-dependent score-based model.\n",
        "    x: A mini-batch of training data.\n",
        "    marginal_prob_std: A function that gives the standard deviation of\n",
        "      the perturbation kernel.\n",
        "    eps: A tolerance value for numerical stability.\n",
        "  \"\"\"\n",
        "  random_t = torch.rand(x.shape[0], device=x.device) * (1. - eps) + eps\n",
        "  z = torch.randn_like(x)\n",
        "  std = marginal_prob_std(random_t)\n",
        "  perturbed_x = x + z * std[:, None, None, None]\n",
        "  score = model(perturbed_x, random_t)\n",
        "  loss = torch.mean(torch.sum((score * std[:, None, None, None] + z)**2, dim=(1,2,3)))\n",
        "  return loss"
      ],
      "execution_count": null,
      "outputs": []
    },
    {
      "cell_type": "code",
      "source": [
        "## learning rate\n",
        "lr=1e-4 #@param {'type':'number'}\n",
        "optimizer = Adam(score_model.parameters(), lr=lr)"
      ],
      "metadata": {
        "id": "Ik8e3KN27x8s"
      },
      "execution_count": null,
      "outputs": []
    },
    {
      "cell_type": "code",
      "metadata": {
        "id": "8PPsLx4dGCGa"
      },
      "source": [
        "n_epochs =   15#@param {'type':'integer'}\n",
        "## size of a mini-batch\n",
        "batch_size =  32 #@param {'type':'integer'}\n",
        "tqdm_epoch = trange(n_epochs)\n",
        "for epoch in tqdm_epoch:\n",
        "  avg_loss = 0.\n",
        "  num_items = 0\n",
        "  for x, y in data_loader:\n",
        "    x = x.to(device)\n",
        "    loss = loss_fn(score_model, x, marginal_prob_std_fn)\n",
        "    optimizer.zero_grad()\n",
        "    loss.backward()\n",
        "    optimizer.step()\n",
        "    avg_loss += loss.item() * x.shape[0]\n",
        "    num_items += x.shape[0]\n",
        "  # Print the averaged training loss so far.\n",
        "  tqdm_epoch.set_description('Average Loss: {:5f}'.format(avg_loss / num_items))\n",
        "  # Update the checkpoint after each epoch of training.\n",
        "  torch.save(score_model.state_dict(), 'ckpt.pth')"
      ],
      "execution_count": null,
      "outputs": []
    },
    {
      "cell_type": "markdown",
      "source": [
        "Now that our model is trained, let's use it to generate more images!"
      ],
      "metadata": {
        "id": "_FKq4QXs7eqF"
      }
    },
    {
      "cell_type": "code",
      "source": [
        "sample_batch_size = 64 #@param {'type':'integer'}\n",
        "num_steps =  800#@param {'type':'integer'}\n",
        "sampler = Euler_Maruyama_sampler\n",
        "\n",
        "## Generate samples using the specified sampler.\n",
        "samples = sampler(score_model,\n",
        "                  marginal_prob_std_fn,\n",
        "                  diffusion_coeff_fn,\n",
        "                  sample_batch_size,\n",
        "                  num_steps=num_steps,\n",
        "                  device=device)\n",
        "\n",
        "## Sample visualization.\n",
        "samples = samples.clamp(0.0, 1.0)\n",
        "sample_grid = make_grid(samples, nrow=int(np.sqrt(sample_batch_size)))\n",
        "\n",
        "plt.figure(figsize=(6,6))\n",
        "plt.axis('off')\n",
        "plt.imshow(sample_grid.permute(1, 2, 0).cpu(), vmin=0., vmax=1.)\n",
        "plt.show()"
      ],
      "metadata": {
        "id": "vxQJ0Zt87dFu"
      },
      "execution_count": null,
      "outputs": []
    },
    {
      "cell_type": "markdown",
      "source": [
        "### Exercise 2\n",
        "\n",
        "Train the network for longer than 5 epochs - you can rerun the training cell to train in 5 epoch increments or increase the epoch parameter for a longer training. What do you observe in the generated images as the network trains?"
      ],
      "metadata": {
        "id": "mPGbxYBf7kZZ"
      }
    },
    {
      "cell_type": "markdown",
      "source": [
        "## Further sampling methods"
      ],
      "metadata": {
        "id": "uOSKVluq8x3V"
      }
    },
    {
      "cell_type": "markdown",
      "metadata": {
        "id": "DC6QVkUQvFyB"
      },
      "source": [
        "### Sampling with Predictor-Corrector Methods\n",
        "\n",
        "Aside from generic numerical SDE solvers, we can leverage special properties of our reverse-time SDE for better solutions. Since we have an estimate of the score of $p_t(\\mathbf{x}(t))$ via the score-based model, i.e., $s_\\theta(\\mathbf{x}, t) \\approx \\nabla_{\\mathbf{x}(t)} \\log p_t(\\mathbf{x}(t))$, we can leverage score-based MCMC approaches, such as Langevin MCMC, to correct the solution obtained by numerical SDE solvers.\n",
        "\n",
        "Score-based MCMC approaches can produce samples from a distribution $p(\\mathbf{x})$ once its score $\\nabla_\\mathbf{x} \\log p(\\mathbf{x})$ is known. For example, Langevin MCMC operates by running the following iteration rule for $i=1,2,\\cdots, N$:\n",
        "\\begin{align*}\n",
        "\\mathbf{x}_{i+1} = \\mathbf{x}_{i} + \\epsilon \\nabla_\\mathbf{x} \\log p(\\mathbf{x}_i) + \\sqrt{2\\epsilon} \\mathbf{z}_i,\n",
        "\\end{align*}\n",
        "where $\\mathbf{z}_i \\sim \\mathcal{N}(\\mathbf{0}, \\mathbf{I})$, $\\epsilon > 0$ is the step size, and $\\mathbf{x}_1$ is initialized from any prior distribution $\\pi(\\mathbf{x}_1)$. When $N\\to\\infty$ and $\\epsilon \\to 0$, the final value $\\mathbf{x}_{N+1}$ becomes a sample from $p(\\mathbf{x})$ under some regularity conditions. Therefore, given $s_\\theta(\\mathbf{x}, t) \\approx \\nabla_\\mathbf{x} \\log p_t(\\mathbf{x})$, we can get an approximate sample from $p_t(\\mathbf{x})$ by running several steps of Langevin MCMC, replacing $\\nabla_\\mathbf{x} \\log p_t(\\mathbf{x})$ with $s_\\theta(\\mathbf{x}, t)$ in the iteration rule.\n",
        "\n",
        "Predictor-Corrector samplers combine both numerical solvers for the reverse-time SDE and the Langevin MCMC approach. In particular, we first apply one step of numerical SDE solver to obtain $\\mathbf{x}_{t-\\Delta t}$ from $\\mathbf{x}_t$, which is called the \"predictor\" step. Next, we apply several steps of Langevin MCMC to refine $\\mathbf{x}_t$, such that $\\mathbf{x}_t$ becomes a more accurate sample from $p_{t-\\Delta t}(\\mathbf{x})$. This is the \"corrector\" step as the MCMC helps reduce the error of the numerical SDE solver."
      ]
    },
    {
      "cell_type": "code",
      "metadata": {
        "id": "qW1HaPZb9gDM"
      },
      "source": [
        "signal_to_noise_ratio = 0.16 #@param {'type':'number'}\n",
        "num_steps =  500#@param {'type':'integer'}\n",
        "def pc_sampler(score_model,\n",
        "               marginal_prob_std,\n",
        "               diffusion_coeff,\n",
        "               batch_size=64,\n",
        "               num_steps=num_steps,\n",
        "               snr=signal_to_noise_ratio,\n",
        "               device='cuda',\n",
        "               eps=1e-3):\n",
        "  \"\"\"Generate samples from score-based models with Predictor-Corrector method.\n",
        "\n",
        "  Args:\n",
        "    score_model: A PyTorch model that represents the time-dependent score-based model.\n",
        "    marginal_prob_std: A function that gives the standard deviation\n",
        "      of the perturbation kernel.\n",
        "    diffusion_coeff: A function that gives the diffusion coefficient\n",
        "      of the SDE.\n",
        "    batch_size: The number of samplers to generate by calling this function once.\n",
        "    num_steps: The number of sampling steps.\n",
        "      Equivalent to the number of discretized time steps.\n",
        "    device: 'cuda' for running on GPUs, and 'cpu' for running on CPUs.\n",
        "    eps: The smallest time step for numerical stability.\n",
        "\n",
        "  Returns:\n",
        "    Samples.\n",
        "  \"\"\"\n",
        "  t = torch.ones(batch_size, device=device)\n",
        "  init_x = torch.randn(batch_size, 1, 28, 28, device=device) * marginal_prob_std(t)[:, None, None, None]\n",
        "  time_steps = np.linspace(1., eps, num_steps)\n",
        "  step_size = time_steps[0] - time_steps[1]\n",
        "  x = init_x\n",
        "  with torch.no_grad():\n",
        "    for time_step in tqdm(time_steps):\n",
        "      batch_time_step = torch.ones(batch_size, device=device) * time_step\n",
        "      # Corrector step (Langevin MCMC)\n",
        "      grad = score_model(x, batch_time_step)\n",
        "      grad_norm = torch.norm(grad.reshape(grad.shape[0], -1), dim=-1).mean()\n",
        "      noise_norm = np.sqrt(np.prod(x.shape[1:]))\n",
        "      langevin_step_size = 2 * (snr * noise_norm / grad_norm)**2\n",
        "      x = x + langevin_step_size * grad + torch.sqrt(2 * langevin_step_size) * torch.randn_like(x)\n",
        "\n",
        "      # Predictor step (Euler-Maruyama)\n",
        "      g = diffusion_coeff(batch_time_step)\n",
        "      x_mean = x + (g**2)[:, None, None, None] * score_model(x, batch_time_step) * step_size\n",
        "      x = x_mean + torch.sqrt(g**2 * step_size)[:, None, None, None] * torch.randn_like(x)\n",
        "\n",
        "    # The last step does not include any noise\n",
        "    return x_mean"
      ],
      "execution_count": null,
      "outputs": []
    },
    {
      "cell_type": "markdown",
      "metadata": {
        "id": "0PdMMadpUbrj"
      },
      "source": [
        "### Sampling with Numerical ODE Solvers\n",
        "\n",
        "For any SDE of the form\n",
        "\\begin{align*}\n",
        "d \\mathbf{x} = \\mathbf{f}(\\mathbf{x}, t) d t + g(t) d \\mathbf{w},\n",
        "\\end{align*}\n",
        "there exists an associated ordinary differential equation (ODE)\n",
        "\\begin{align*}\n",
        "d \\mathbf{x} = \\bigg[\\mathbf{f}(\\mathbf{x}, t) - \\frac{1}{2}g(t)^2 \\nabla_\\mathbf{x} \\log p_t(\\mathbf{x})\\bigg] dt,\n",
        "\\end{align*}\n",
        "such that their trajectories have the same mariginal probability density $p_t(\\mathbf{x})$. Therefore, by solving this ODE in the reverse time direction, we can sample from the same distribution as solving the reverse-time SDE.\n",
        "We call this ODE the *probability flow ODE*.\n",
        "\n",
        "Below is a schematic figure showing how trajectories from this probability flow ODE differ from SDE trajectories, while still sampling from the same distribution.\n",
        "![SDE and ODE](https://drive.google.com/uc?id=1CGFbtY2mCjlIY8pjvoGevfa_32d4b1dj)\n",
        "\n",
        "Therefore, we can start from a sample from $p_T$, integrate the ODE in the reverse time direction, and then get a sample from $p_0$. In particular, for the SDE in our running example, we can integrate the following ODE from $t=T$ to $0$ for sample generation\n",
        "\\begin{align*}\n",
        "d\\mathbf{x} =  -\\frac{1}{2}\\sigma^{2t} s_\\theta(\\mathbf{x}, t) dt.\n",
        "\\end{align*}\n",
        "This can be done using many black-box ODE solvers provided by packages such as `scipy`."
      ]
    },
    {
      "cell_type": "code",
      "metadata": {
        "id": "nxrCTFM8CfDN"
      },
      "source": [
        "## The error tolerance for the black-box ODE solver\n",
        "error_tolerance = 1e-5 #@param {'type': 'number'}\n",
        "def ode_sampler(score_model,\n",
        "                marginal_prob_std,\n",
        "                diffusion_coeff,\n",
        "                batch_size=64,\n",
        "                atol=error_tolerance,\n",
        "                rtol=error_tolerance,\n",
        "                device='cuda',\n",
        "                z=None,\n",
        "                eps=1e-3):\n",
        "  \"\"\"Generate samples from score-based models with black-box ODE solvers.\n",
        "\n",
        "  Args:\n",
        "    score_model: A PyTorch model that represents the time-dependent score-based model.\n",
        "    marginal_prob_std: A function that returns the standard deviation\n",
        "      of the perturbation kernel.\n",
        "    diffusion_coeff: A function that returns the diffusion coefficient of the SDE.\n",
        "    batch_size: The number of samplers to generate by calling this function once.\n",
        "    atol: Tolerance of absolute errors.\n",
        "    rtol: Tolerance of relative errors.\n",
        "    device: 'cuda' for running on GPUs, and 'cpu' for running on CPUs.\n",
        "    z: The latent code that governs the final sample. If None, we start from p_1;\n",
        "      otherwise, we start from the given z.\n",
        "    eps: The smallest time step for numerical stability.\n",
        "  \"\"\"\n",
        "  t = torch.ones(batch_size, device=device)\n",
        "  # Create the latent code\n",
        "  if z is None:\n",
        "    init_x = torch.randn(batch_size, 1, 28, 28, device=device) \\\n",
        "      * marginal_prob_std(t)[:, None, None, None]\n",
        "  else:\n",
        "    init_x = z\n",
        "\n",
        "  shape = init_x.shape\n",
        "\n",
        "  def score_eval_wrapper(sample, time_steps):\n",
        "    \"\"\"A wrapper of the score-based model for use by the ODE solver.\"\"\"\n",
        "    sample = torch.tensor(sample, device=device, dtype=torch.float32).reshape(shape)\n",
        "    time_steps = torch.tensor(time_steps, device=device, dtype=torch.float32).reshape((sample.shape[0], ))\n",
        "    with torch.no_grad():\n",
        "      score = score_model(sample, time_steps)\n",
        "    return score.cpu().numpy().reshape((-1,)).astype(np.float64)\n",
        "\n",
        "  def ode_func(t, x):\n",
        "    \"\"\"The ODE function for use by the ODE solver.\"\"\"\n",
        "    time_steps = np.ones((shape[0],)) * t\n",
        "    g = diffusion_coeff(torch.tensor(t)).cpu().numpy()\n",
        "    return  -0.5 * (g**2) * score_eval_wrapper(x, time_steps)\n",
        "\n",
        "  # Run the black-box ODE solver.\n",
        "  res = integrate.solve_ivp(ode_func, (1., eps), init_x.reshape(-1).cpu().numpy(), rtol=rtol, atol=atol, method='RK45')\n",
        "  print(f\"Number of function evaluations: {res.nfev}\")\n",
        "  x = torch.tensor(res.y[:, -1], device=device).reshape(shape)\n",
        "\n",
        "  return x\n"
      ],
      "execution_count": null,
      "outputs": []
    },
    {
      "cell_type": "markdown",
      "source": [
        "### Exercise 3\n",
        "\n",
        "Compare the different sampling methods using the following code. Observe the time they take and how they change as you modify hyperparameters like `num_steps`, `signal_to_noise_ratio`, and `error_tolerance`. What gives the best quality images in the shortest time?"
      ],
      "metadata": {
        "id": "u_KRrMJd9IlG"
      }
    },
    {
      "cell_type": "code",
      "metadata": {
        "id": "kKoAPnr7Pf2B"
      },
      "source": [
        "sample_batch_size = 64 #@param {'type':'integer'}\n",
        "sampler = ode_sampler #@param ['Euler_Maruyama_sampler', 'pc_sampler', 'ode_sampler'] {'type': 'raw'}\n",
        "num_steps = 500 #@param{'type':'integer'}\n",
        "signal_to_noise_ratio = 0.16 #@param {'type':'number'}\n",
        "error_tolerance = 1e-5 #@param {'type': 'number'}\n",
        "\n",
        "## Generate samples using the specified sampler.\n",
        "samples = sampler(score_model,\n",
        "                  marginal_prob_std_fn,\n",
        "                  diffusion_coeff_fn,\n",
        "                  sample_batch_size,\n",
        "                  # num_steps=num_steps, # for Euler_Maruyama or pc_sampler\n",
        "                  # signal_to_noise_ratio=signal_to_noise_ratio, # for pc_sampler\n",
        "                  # error_tolerange=error_tolerance, # for ode_sampler\n",
        "                  device=device)\n",
        "\n",
        "\n",
        "## Sample visualization.\n",
        "samples = samples.clamp(0.0, 1.0)\n",
        "sample_grid = make_grid(samples, nrow=int(np.sqrt(sample_batch_size)))\n",
        "\n",
        "plt.figure(figsize=(6,6))\n",
        "plt.axis('off')\n",
        "plt.imshow(sample_grid.permute(1, 2, 0).cpu(), vmin=0., vmax=1.)\n",
        "plt.show()"
      ],
      "execution_count": null,
      "outputs": []
    },
    {
      "cell_type": "markdown",
      "metadata": {
        "id": "mHsx75Yft-6u"
      },
      "source": [
        "## Further Resources\n",
        "\n",
        "If you're interested in learning more about score-based generative models, the following papers would be a good start:\n",
        "\n",
        "* Yang Song, Jascha Sohl-Dickstein, Diederik P. Kingma, Abhishek Kumar, Stefano Ermon, and Ben Poole. \"[Score-Based Generative Modeling through Stochastic Differential Equations.](https://arxiv.org/pdf/2011.13456.pdf)\" International Conference on Learning Representations, 2021.\n",
        "* Jonathan Ho, Ajay Jain, and Pieter Abbeel. \"[Denoising diffusion probabilistic models.](https://arxiv.org/pdf/2006.11239.pdf)\" Advances in Neural Information Processing Systems. 2020.\n",
        "*    Yang Song, and Stefano Ermon. \"[Improved Techniques for Training Score-Based Generative Models.](https://arxiv.org/pdf/2006.09011.pdf)\" Advances in Neural Information Processing Systems. 2020.\n",
        "*   Yang Song, and Stefano Ermon. \"[Generative modeling by estimating gradients of the data distribution.](https://arxiv.org/pdf/1907.05600.pdf)\" Advances in Neural Information Processing Systems. 2019.\n",
        "\n",
        "The following blog posts also describe score-based generative models well:\n",
        "\n",
        "* Yang Song's post on [Generative Modeling by Estimating Gradients of the Data Distribution](https://yang-song.net/blog/2021/score/)\n",
        "* Lilian Weng's post on [Diffusion Models](https://lilianweng.github.io/posts/2021-07-11-diffusion-models/)\n"
      ]
    },
    {
      "cell_type": "markdown",
      "source": [
        "### Bonus Exercise 1\n",
        "\n",
        "Use [exponential moving average](https://discuss.pytorch.org/t/how-to-apply-exponential-moving-average-decay-for-variables/10856/3) (EMA) of weights when sampling. This can greatly improve sample quality, but requires slightly longer training time, and requires more work in implementation. We do not include this in this tutorial, but highly recommend it when you employ score-based generative modeling to tackle more challenging real problems."
      ],
      "metadata": {
        "id": "hmsJuhYR1h8L"
      }
    },
    {
      "cell_type": "markdown",
      "metadata": {
        "id": "yC49nk6ZXqOS"
      },
      "source": [
        "## Bonus: Likelihood Computation\n",
        "\n",
        "A by-product of the probability flow ODE formulation is likelihood computation. Suppose we have a differentiable one-to-one mapping $\\mathbf{h}$ that transforms a data sample $\\mathbf{x} \\sim p_0$ to a prior distribution $\\mathbf{h}(\\mathbf{x}) \\sim p_T$. We can compute the likelihood of $p_0(\\mathbf{x})$ via the following [change-of-variable formula](https://en.wikipedia.org/wiki/Probability_density_function#Function_of_random_variables_and_change_of_variables_in_the_probability_density_function)\n",
        "\\begin{align*}\n",
        "p_0(\\mathbf{x}) = p_T(\\mathbf{h}(\\mathbf{x})) |\\operatorname{det}(J_\\mathbf{h}(\\mathbf{x}))|,\n",
        "\\end{align*}\n",
        "where $J_\\mathbf{h}(\\mathbf{x})$ represents the Jacobian of the mapping $\\mathbf{h}$, and we assume it is efficient to evaluate the likelihood of the prior distribution $p_T$.\n",
        "\n",
        "The trajectories of an ODE also define a one-to-one mapping from $\\mathbf{x}(0)$ to $\\mathbf{x}(T)$. For ODEs of the form\n",
        "\\begin{align*}\n",
        "d \\mathbf{x} = \\mathbf{f}(\\mathbf{x}, t) dt,\n",
        "\\end{align*}\n",
        "there exists an [instantaneous change-of-variable formula](https://arxiv.org/abs/1806.07366) that connects the probability of $p_0(\\mathbf{x})$ and $p_1(\\mathbf{x})$, given by\n",
        "\\begin{align*}\n",
        "p_0 (\\mathbf{x}(0)) = e^{\\int_0^1 \\operatorname{div} \\mathbf{f}(\\mathbf{x}(t), t) d t} p_1(\\mathbf{x}(1)),\n",
        "\\end{align*}\n",
        "where $\\operatorname{div}$ denotes the divergence function (trace of Jacobian).\n",
        "\n",
        "In practice, this divergence function can be hard to evaluate for general vector-valued function $\\mathbf{f}$, but we can use an unbiased estimator, named [Skilling-Hutchinson estimator](http://blog.shakirm.com/2015/09/machine-learning-trick-of-the-day-3-hutchinsons-trick/), to approximate the trace. Let $\\boldsymbol \\epsilon \\sim \\mathcal{N}(\\mathbf{0}, \\mathbf{I})$. The Skilling-Hutchinson estimator is based on the fact that\n",
        "\\begin{align*}\n",
        "\\operatorname{div} \\mathbf{f}(\\mathbf{x}) = \\mathbb{E}_{\\boldsymbol\\epsilon \\sim \\mathcal{N}(\\mathbf{0}, \\mathbf{I})}[\\boldsymbol\\epsilon^\\intercal  J_\\mathbf{f}(\\mathbf{x}) \\boldsymbol\\epsilon].\n",
        "\\end{align*}\n",
        "Therefore, we can simply sample a random vector $\\boldsymbol \\epsilon \\sim \\mathcal{N}(\\mathbf{0}, \\mathbf{I})$, and then use $\\boldsymbol \\epsilon^\\intercal J_\\mathbf{f}(\\mathbf{x}) \\boldsymbol \\epsilon$ to estimate the divergence of $\\mathbf{f}(\\mathbf{x})$. This estimator only requires computing the Jacobian-vector product $J_\\mathbf{f}(\\mathbf{x})\\boldsymbol \\epsilon$, which is typically efficient.\n",
        "\n",
        "As a result, for our probability flow ODE, we can compute the (log) data likelihood with the following\n",
        "\\begin{align*}\n",
        "\\log p_0(\\mathbf{x}(0)) = \\log p_1(\\mathbf{x}(1)) -\\frac{1}{2}\\int_0^1 \\frac{d[\\sigma^2(t)]}{dt} \\operatorname{div} s_\\theta(\\mathbf{x}(t), t) dt.\n",
        "\\end{align*}\n",
        "With the Skilling-Hutchinson estimator, we can compute the divergence via\n",
        "\\begin{align*}\n",
        "\\operatorname{div} s_\\theta(\\mathbf{x}(t), t) = \\mathbb{E}_{\\boldsymbol\\epsilon \\sim \\mathcal{N}(\\mathbf{0}, \\mathbf{I})}[\\boldsymbol\\epsilon^\\intercal  J_{s_\\theta}(\\mathbf{x}(t), t) \\boldsymbol\\epsilon].\n",
        "\\end{align*}\n",
        "Afterwards, we can compute the integral with numerical integrators. This gives us an unbiased estimate to the true data likelihood, and we can make it more and more accurate when we run it multiple times and take the average. The numerical integrator requires $\\mathbf{x}(t)$ as a function of $t$, which can be obtained by the probability flow ODE sampler."
      ]
    },
    {
      "cell_type": "code",
      "metadata": {
        "id": "DfOkg5jBZcjF"
      },
      "source": [
        "#@title Define the likelihood function (double click to expand or collapse)\n",
        "\n",
        "def prior_likelihood(z, sigma):\n",
        "  \"\"\"The likelihood of a Gaussian distribution with mean zero and\n",
        "      standard deviation sigma.\"\"\"\n",
        "  shape = z.shape\n",
        "  N = np.prod(shape[1:])\n",
        "  return -N / 2. * torch.log(2*np.pi*sigma**2) - torch.sum(z**2, dim=(1,2,3)) / (2 * sigma**2)\n",
        "\n",
        "def ode_likelihood(x,\n",
        "                   score_model,\n",
        "                   marginal_prob_std,\n",
        "                   diffusion_coeff,\n",
        "                   batch_size=64,\n",
        "                   device='cuda',\n",
        "                   eps=1e-5):\n",
        "  \"\"\"Compute the likelihood with probability flow ODE.\n",
        "\n",
        "  Args:\n",
        "    x: Input data.\n",
        "    score_model: A PyTorch model representing the score-based model.\n",
        "    marginal_prob_std: A function that gives the standard deviation of the\n",
        "      perturbation kernel.\n",
        "    diffusion_coeff: A function that gives the diffusion coefficient of the\n",
        "      forward SDE.\n",
        "    batch_size: The batch size. Equals to the leading dimension of `x`.\n",
        "    device: 'cuda' for evaluation on GPUs, and 'cpu' for evaluation on CPUs.\n",
        "    eps: A `float` number. The smallest time step for numerical stability.\n",
        "\n",
        "  Returns:\n",
        "    z: The latent code for `x`.\n",
        "    bpd: The log-likelihoods in bits/dim.\n",
        "  \"\"\"\n",
        "\n",
        "  # Draw the random Gaussian sample for Skilling-Hutchinson's estimator.\n",
        "  epsilon = torch.randn_like(x)\n",
        "\n",
        "  def divergence_eval(sample, time_steps, epsilon):\n",
        "    \"\"\"Compute the divergence of the score-based model with Skilling-Hutchinson.\"\"\"\n",
        "    with torch.enable_grad():\n",
        "      sample.requires_grad_(True)\n",
        "      score_e = torch.sum(score_model(sample, time_steps) * epsilon)\n",
        "      grad_score_e = torch.autograd.grad(score_e, sample)[0]\n",
        "    return torch.sum(grad_score_e * epsilon, dim=(1, 2, 3))\n",
        "\n",
        "  shape = x.shape\n",
        "\n",
        "  def score_eval_wrapper(sample, time_steps):\n",
        "    \"\"\"A wrapper for evaluating the score-based model for the black-box ODE solver.\"\"\"\n",
        "    sample = torch.tensor(sample, device=device, dtype=torch.float32).reshape(shape)\n",
        "    time_steps = torch.tensor(time_steps, device=device, dtype=torch.float32).reshape((sample.shape[0], ))\n",
        "    with torch.no_grad():\n",
        "      score = score_model(sample, time_steps)\n",
        "    return score.cpu().numpy().reshape((-1,)).astype(np.float64)\n",
        "\n",
        "  def divergence_eval_wrapper(sample, time_steps):\n",
        "    \"\"\"A wrapper for evaluating the divergence of score for the black-box ODE solver.\"\"\"\n",
        "    with torch.no_grad():\n",
        "      # Obtain x(t) by solving the probability flow ODE.\n",
        "      sample = torch.tensor(sample, device=device, dtype=torch.float32).reshape(shape)\n",
        "      time_steps = torch.tensor(time_steps, device=device, dtype=torch.float32).reshape((sample.shape[0], ))\n",
        "      # Compute likelihood.\n",
        "      div = divergence_eval(sample, time_steps, epsilon)\n",
        "      return div.cpu().numpy().reshape((-1,)).astype(np.float64)\n",
        "\n",
        "  def ode_func(t, x):\n",
        "    \"\"\"The ODE function for the black-box solver.\"\"\"\n",
        "    time_steps = np.ones((shape[0],)) * t\n",
        "    sample = x[:-shape[0]]\n",
        "    logp = x[-shape[0]:]\n",
        "    g = diffusion_coeff(torch.tensor(t)).cpu().numpy()\n",
        "    sample_grad = -0.5 * g**2 * score_eval_wrapper(sample, time_steps)\n",
        "    logp_grad = -0.5 * g**2 * divergence_eval_wrapper(sample, time_steps)\n",
        "    return np.concatenate([sample_grad, logp_grad], axis=0)\n",
        "\n",
        "  init = np.concatenate([x.cpu().numpy().reshape((-1,)), np.zeros((shape[0],))], axis=0)\n",
        "  # Black-box ODE solver\n",
        "  res = integrate.solve_ivp(ode_func, (eps, 1.), init, rtol=1e-5, atol=1e-5, method='RK45')\n",
        "  zp = torch.tensor(res.y[:, -1], device=device)\n",
        "  z = zp[:-shape[0]].reshape(shape)\n",
        "  delta_logp = zp[-shape[0]:].reshape(shape[0])\n",
        "  sigma_max = marginal_prob_std(1.)\n",
        "  prior_logp = prior_likelihood(z, sigma_max)\n",
        "  bpd = -(prior_logp + delta_logp) / np.log(2)\n",
        "  N = np.prod(shape[1:])\n",
        "  bpd = bpd / N + 8.\n",
        "  return z, bpd"
      ],
      "execution_count": null,
      "outputs": []
    },
    {
      "cell_type": "code",
      "metadata": {
        "id": "0H1Rq5DTmW8o"
      },
      "source": [
        "#@title Compute likelihood on the dataset (double click to expand or collapse)\n",
        "\n",
        "batch_size = 32 #@param {'type':'integer'}\n",
        "n_steps = 10 #@param {'type':'integer'}\n",
        "\n",
        "all_bpds = 0.\n",
        "all_items = 0\n",
        "for i in range(n_steps):\n",
        "  tqdm_data = tqdm(data_loader)\n",
        "  for x, _ in tqdm_data:\n",
        "    x = x.to(device)\n",
        "    # uniform dequantization\n",
        "    x = (x * 255. + torch.rand_like(x)) / 256.\n",
        "    _, bpd = ode_likelihood(x, score_model, marginal_prob_std_fn,\n",
        "                            diffusion_coeff_fn,\n",
        "                            x.shape[0], device=device, eps=1e-5)\n",
        "    all_bpds += bpd.sum()\n",
        "    all_items += bpd.shape[0]\n",
        "    tqdm_data.set_description(\"Average bits/dim: {:5f}\".format(all_bpds / all_items))"
      ],
      "execution_count": null,
      "outputs": []
    },
    {
      "cell_type": "code",
      "source": [],
      "metadata": {
        "id": "65E9kg0D_pgs"
      },
      "execution_count": null,
      "outputs": []
    }
  ]
}